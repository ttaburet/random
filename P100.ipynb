{
  "nbformat": 4,
  "nbformat_minor": 0,
  "metadata": {
    "accelerator": "GPU",
    "colab": {
      "name": "P100.ipynb",
      "provenance": [],
      "collapsed_sections": [],
      "machine_shape": "hm",
      "include_colab_link": true
    },
    "kernelspec": {
      "display_name": "Python 3",
      "name": "python3"
    }
  },
  "cells": [
    {
      "cell_type": "markdown",
      "metadata": {
        "id": "view-in-github",
        "colab_type": "text"
      },
      "source": [
        "<a href=\"https://colab.research.google.com/github/ttaburet/random/blob/master/P100.ipynb\" target=\"_parent\"><img src=\"https://colab.research.google.com/assets/colab-badge.svg\" alt=\"Open In Colab\"/></a>"
      ]
    },
    {
      "cell_type": "code",
      "metadata": {
        "colab": {
          "base_uri": "https://localhost:8080/"
        },
        "id": "pJbYXou6chZf",
        "outputId": "4ac4e7ba-a9c2-40df-bf2c-f97e61e706a5"
      },
      "source": [
        "!nvidia-smi"
      ],
      "execution_count": null,
      "outputs": [
        {
          "output_type": "stream",
          "text": [
            "Thu Mar 18 08:30:47 2021       \n",
            "+-----------------------------------------------------------------------------+\n",
            "| NVIDIA-SMI 460.56       Driver Version: 460.32.03    CUDA Version: 11.2     |\n",
            "|-------------------------------+----------------------+----------------------+\n",
            "| GPU  Name        Persistence-M| Bus-Id        Disp.A | Volatile Uncorr. ECC |\n",
            "| Fan  Temp  Perf  Pwr:Usage/Cap|         Memory-Usage | GPU-Util  Compute M. |\n",
            "|                               |                      |               MIG M. |\n",
            "|===============================+======================+======================|\n",
            "|   0  Tesla P100-PCIE...  Off  | 00000000:00:04.0 Off |                    0 |\n",
            "| N/A   42C    P0    27W / 250W |      0MiB / 16280MiB |      0%      Default |\n",
            "|                               |                      |                  N/A |\n",
            "+-------------------------------+----------------------+----------------------+\n",
            "                                                                               \n",
            "+-----------------------------------------------------------------------------+\n",
            "| Processes:                                                                  |\n",
            "|  GPU   GI   CI        PID   Type   Process name                  GPU Memory |\n",
            "|        ID   ID                                                   Usage      |\n",
            "|=============================================================================|\n",
            "|  No running processes found                                                 |\n",
            "+-----------------------------------------------------------------------------+\n"
          ],
          "name": "stdout"
        }
      ]
    },
    {
      "cell_type": "code",
      "metadata": {
        "id": "CPUS4nwiAlfd"
      },
      "source": [
        "import keras\n",
        "import numpy as np\n",
        "import tensorflow as tf\n",
        "\n",
        "from keras.layers import Input, Dense, Lambda\n",
        "from keras.models import Model\n",
        "from keras import backend as K\n",
        "\n",
        "from tensorflow.keras.applications.resnet50 import ResNet50\n",
        "from tensorflow.keras.preprocessing import image\n",
        "from tensorflow.keras.applications.resnet50 import preprocess_input, decode_predictions"
      ],
      "execution_count": 1,
      "outputs": []
    },
    {
      "cell_type": "code",
      "metadata": {
        "id": "nvu-hhKlCcsg"
      },
      "source": [
        "def triplet_loss(inputs, dist='sqeuclidean', margin='maxplus'):\n",
        "    anchor, positive, negative = inputs\n",
        "    positive_distance = K.square(anchor - positive)\n",
        "    negative_distance = K.square(anchor - negative)\n",
        "    if dist == 'euclidean':\n",
        "        positive_distance = K.sqrt(K.sum(positive_distance, axis=-1, keepdims=True))\n",
        "        negative_distance = K.sqrt(K.sum(negative_distance, axis=-1, keepdims=True))\n",
        "    elif dist == 'sqeuclidean':\n",
        "        positive_distance = K.sum(positive_distance, axis=-1, keepdims=True)\n",
        "        negative_distance = K.sum(negative_distance, axis=-1, keepdims=True)\n",
        "    loss = positive_distance - negative_distance\n",
        "    if margin == 'maxplus':\n",
        "        loss = K.maximum(0.0, 1 + loss)\n",
        "    elif margin == 'softplus':\n",
        "        loss = K.log(1 + K.exp(loss))\n",
        "    return K.mean(loss)\n",
        "\n",
        "def triplet_loss_np(inputs, dist='sqeuclidean', margin='maxplus'):\n",
        "    anchor, positive, negative = inputs\n",
        "    positive_distance = np.square(anchor - positive)\n",
        "    negative_distance = np.square(anchor - negative)\n",
        "    if dist == 'euclidean':\n",
        "        positive_distance = np.sqrt(np.sum(positive_distance, axis=-1, keepdims=True))\n",
        "        negative_distance = np.sqrt(np.sum(negative_distance, axis=-1, keepdims=True))\n",
        "    elif dist == 'sqeuclidean':\n",
        "        positive_distance = np.sum(positive_distance, axis=-1, keepdims=True)\n",
        "        negative_distance = np.sum(negative_distance, axis=-1, keepdims=True)\n",
        "    loss = positive_distance - negative_distance\n",
        "    if margin == 'maxplus':\n",
        "        loss = np.maximum(0.0, 1 + loss)\n",
        "    elif margin == 'softplus':\n",
        "        loss = np.log(1 + np.exp(loss))\n",
        "    return np.mean(loss)\n",
        "\n",
        "def check_loss():\n",
        "    batch_size = 10\n",
        "    shape = (batch_size, 4096)\n",
        "\n",
        "    p1 = normalize(np.random.random(shape))\n",
        "    n = normalize(np.random.random(shape))\n",
        "    p2 = normalize(np.random.random(shape))\n",
        "    \n",
        "    input_tensor = [K.variable(p1), K.variable(n), K.variable(p2)]\n",
        "    out1 = K.eval(triplet_loss(input_tensor))\n",
        "    input_np = [p1, n, p2]\n",
        "    out2 = triplet_loss_np(input_np)\n",
        "\n",
        "    assert out1.shape == out2.shape\n",
        "    print(np.linalg.norm(out1))\n",
        "    print(np.linalg.norm(out2))\n",
        "    print(np.linalg.norm(out1-out2))"
      ],
      "execution_count": 2,
      "outputs": []
    },
    {
      "cell_type": "code",
      "metadata": {
        "id": "JM-tEj92Chs_"
      },
      "source": [
        "tf.random.set_seed(1234)"
      ],
      "execution_count": 3,
      "outputs": []
    },
    {
      "cell_type": "code",
      "metadata": {
        "id": "9nqywM79C8kt"
      },
      "source": [
        ""
      ],
      "execution_count": null,
      "outputs": []
    }
  ]
}